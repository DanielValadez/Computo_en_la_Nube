{
  "nbformat": 4,
  "nbformat_minor": 0,
  "metadata": {
    "colab": {
      "provenance": [],
      "authorship_tag": "ABX9TyOcYdX2uIPwrXmGYyL27KsL",
      "include_colab_link": true
    },
    "kernelspec": {
      "name": "python3",
      "display_name": "Python 3"
    },
    "language_info": {
      "name": "python"
    }
  },
  "cells": [
    {
      "cell_type": "markdown",
      "metadata": {
        "id": "view-in-github",
        "colab_type": "text"
      },
      "source": [
        "<a href=\"https://colab.research.google.com/github/DanielValadez/Computo_en_la_Nube/blob/main/1_3Importacion.ipynb\" target=\"_parent\"><img src=\"https://colab.research.google.com/assets/colab-badge.svg\" alt=\"Open In Colab\"/></a>"
      ]
    },
    {
      "cell_type": "code",
      "execution_count": 1,
      "metadata": {
        "colab": {
          "base_uri": "https://localhost:8080/"
        },
        "id": "pcR4Sh-EgmCM",
        "outputId": "574b6698-ac21-4af9-f880-6a4003aa12da"
      },
      "outputs": [
        {
          "output_type": "stream",
          "name": "stdout",
          "text": [
            "Temp directory: ./tmpuhmh9bl5\n",
            "/content/tmpuhmh9bl5/tmpefbfgyx3\n"
          ]
        }
      ],
      "source": [
        "# files/tmp.py\n",
        "from tempfile import NamedTemporaryFile, TemporaryDirectory\n",
        "with TemporaryDirectory(dir='.') as td:\n",
        " print('Temp directory:', td)\n",
        " with NamedTemporaryFile(dir=td) as t:\n",
        "  name = t.name\n",
        "  print(name)"
      ]
    },
    {
      "cell_type": "code",
      "source": [
        "# files/listing.py\n",
        "from pathlib import Path\n",
        "p = Path('.')\n",
        "for entry in p.glob('*'):\n",
        " print('File:' if entry.is_file() else 'Folder:', entry)"
      ],
      "metadata": {
        "colab": {
          "base_uri": "https://localhost:8080/"
        },
        "id": "jez5-ftEg0hz",
        "outputId": "3dabc000-cbb8-4b31-8709-d24060c62350"
      },
      "execution_count": 2,
      "outputs": [
        {
          "output_type": "stream",
          "name": "stdout",
          "text": [
            "Folder: .config\n",
            "Folder: sample_data\n"
          ]
        }
      ]
    },
    {
      "cell_type": "code",
      "source": [
        "# json_examples/json_basic.py\n",
        "import sys\n",
        "import json\n",
        "data = {\n",
        "'big_number': 2 ** 3141,\n",
        "'max_float': sys.float_info.max,\n",
        "'a_list': [2, 3, 5, 7],\n",
        "}\n",
        "json_data = json.dumps(data)\n",
        "data_out = json.loads(json_data)\n",
        "assert data == data_out # json and back, data matches"
      ],
      "metadata": {
        "id": "DJrisah5g6Th"
      },
      "execution_count": 3,
      "outputs": []
    },
    {
      "cell_type": "code",
      "source": [
        "# json_examples/json_tuple.py\n",
        "import json\n",
        "data_in = {\n",
        "\n",
        " 'a_tuple': (1, 2, 3, 4, 5),\n",
        "}\n",
        "\n",
        "json_data = json.dumps(data_in)\n",
        "print(json_data)\n",
        "data_out = json.loads(json_data)\n",
        "print(data_out)"
      ],
      "metadata": {
        "colab": {
          "base_uri": "https://localhost:8080/"
        },
        "id": "0bgRjlWBhBjQ",
        "outputId": "e633b014-b532-4fce-ab1a-17f890073fcd"
      },
      "execution_count": 4,
      "outputs": [
        {
          "output_type": "stream",
          "name": "stdout",
          "text": [
            "{\"a_tuple\": [1, 2, 3, 4, 5]}\n",
            "{'a_tuple': [1, 2, 3, 4, 5]}\n"
          ]
        }
      ]
    },
    {
      "cell_type": "code",
      "source": [
        "import io\n",
        "stream = io.StringIO()\n",
        "stream.write('Learning Python Programming.\\n')\n",
        "print('Become a Python ninja!', file=stream)\n",
        "contents = stream.getvalue()\n",
        "print(contents)"
      ],
      "metadata": {
        "colab": {
          "base_uri": "https://localhost:8080/"
        },
        "id": "H0F9PY4-hC36",
        "outputId": "37d4f83e-e61f-48fd-ae14-ca84c0e2fa6b"
      },
      "execution_count": 5,
      "outputs": [
        {
          "output_type": "stream",
          "name": "stdout",
          "text": [
            "Learning Python Programming.\n",
            "Become a Python ninja!\n",
            "\n"
          ]
        }
      ]
    },
    {
      "cell_type": "code",
      "source": [
        "import requests\n",
        "urls = {\n",
        " \"get\": \"https://httpbin.org/get?t=learn+python+programming\",\n",
        " \"headers\": \"https://httpbin.org/headers\",\n",
        " \"ip\": \"https://httpbin.org/ip\",\n",
        " \"user-agent\": \"https://httpbin.org/user-agent\",\n",
        " \"UUID\": \"https://httpbin.org/uuid\",\n",
        " \"JSON\": \"https://httpbin.org/json\",\n",
        "}\n",
        "\n",
        "def get_content(title, url):\n",
        " resp = requests.get(url)\n",
        " print(f\"Response for {title}\")\n",
        " print(resp.json())\n",
        "\n",
        "for title, url in urls.items():\n",
        " get_content(title, url)\n",
        " print(\"-\" * 40)"
      ],
      "metadata": {
        "colab": {
          "base_uri": "https://localhost:8080/"
        },
        "id": "nzRDzV8jhFfv",
        "outputId": "bcd748bb-7fca-4fc0-f99b-a8092661c94e"
      },
      "execution_count": 6,
      "outputs": [
        {
          "output_type": "stream",
          "name": "stdout",
          "text": [
            "Response for get\n",
            "{'args': {'t': 'learn python programming'}, 'headers': {'Accept': '*/*', 'Accept-Encoding': 'gzip, deflate', 'Host': 'httpbin.org', 'User-Agent': 'python-requests/2.31.0', 'X-Amzn-Trace-Id': 'Root=1-65197a09-2c103e875e98d83d0244d685'}, 'origin': '34.125.238.249', 'url': 'https://httpbin.org/get?t=learn+python+programming'}\n",
            "----------------------------------------\n",
            "Response for headers\n",
            "{'headers': {'Accept': '*/*', 'Accept-Encoding': 'gzip, deflate', 'Host': 'httpbin.org', 'User-Agent': 'python-requests/2.31.0', 'X-Amzn-Trace-Id': 'Root=1-65197a09-59f92d5771f81f1854cd840e'}}\n",
            "----------------------------------------\n",
            "Response for ip\n",
            "{'origin': '34.125.238.249'}\n",
            "----------------------------------------\n",
            "Response for user-agent\n",
            "{'user-agent': 'python-requests/2.31.0'}\n",
            "----------------------------------------\n",
            "Response for UUID\n",
            "{'uuid': '5ac35742-3642-47b6-9a0b-ac4584b7f128'}\n",
            "----------------------------------------\n",
            "Response for JSON\n",
            "{'slideshow': {'author': 'Yours Truly', 'date': 'date of publication', 'slides': [{'title': 'Wake up to WonderWidgets!', 'type': 'all'}, {'items': ['Why <em>WonderWidgets</em> are great', 'Who <em>buys</em> WonderWidgets'], 'title': 'Overview', 'type': 'all'}], 'title': 'Sample Slide Show'}}\n",
            "----------------------------------------\n"
          ]
        }
      ]
    },
    {
      "cell_type": "code",
      "source": [
        "import requests\n",
        "url = 'https://httpbin.org/post'\n",
        "data = dict(title='Learn Python Programming')\n",
        "resp = requests.post(url, data=data)\n",
        "print('Response for POST')\n",
        "print(resp.json())"
      ],
      "metadata": {
        "colab": {
          "base_uri": "https://localhost:8080/"
        },
        "id": "x4JmVfTzhKp2",
        "outputId": "405ed264-3ab6-4df8-a1f0-c21d422873b6"
      },
      "execution_count": 7,
      "outputs": [
        {
          "output_type": "stream",
          "name": "stdout",
          "text": [
            "Response for POST\n",
            "{'args': {}, 'data': '', 'files': {}, 'form': {'title': 'Learn Python Programming'}, 'headers': {'Accept': '*/*', 'Accept-Encoding': 'gzip, deflate', 'Content-Length': '30', 'Content-Type': 'application/x-www-form-urlencoded', 'Host': 'httpbin.org', 'User-Agent': 'python-requests/2.31.0', 'X-Amzn-Trace-Id': 'Root=1-65197a1d-28e458c94027e2db51c5ef75'}, 'json': None, 'origin': '34.125.238.249', 'url': 'https://httpbin.org/post'}\n"
          ]
        }
      ]
    },
    {
      "cell_type": "code",
      "source": [
        "import shelve\n",
        "class Person:\n",
        " def __init__(self, name, id):\n",
        "  self.name = name\n",
        "  self.id = id\n",
        "\n",
        "with shelve.open('shelf1.shelve') as db:\n",
        " db['obi1'] = Person('Obi-Wan', 123)\n",
        " db['ani'] = Person('Anakin', 456)\n",
        " db['a_list'] = [2, 3, 5]\n",
        " db['delete_me'] = 'we will have to delete this one...'\n",
        " print(list(db.keys()))\n",
        "\n",
        " del db['delete_me']\n",
        " print(list(db.keys()))\n",
        " print('delete_me' in db)\n",
        " print('ani' in db)\n",
        " a_list = db['a_list']\n",
        " a_list.append(7)\n",
        " db['a_list'] = a_list\n",
        " print(db['a_list'])"
      ],
      "metadata": {
        "colab": {
          "base_uri": "https://localhost:8080/"
        },
        "id": "vBbdRhL5hOoS",
        "outputId": "7d27260e-5f50-4436-8eed-4d42895d22ff"
      },
      "execution_count": 8,
      "outputs": [
        {
          "output_type": "stream",
          "name": "stdout",
          "text": [
            "['a_list', 'ani', 'delete_me', 'obi1']\n",
            "['a_list', 'ani', 'obi1']\n",
            "False\n",
            "True\n",
            "[2, 3, 5, 7]\n"
          ]
        }
      ]
    },
    {
      "cell_type": "code",
      "source": [
        "import json\n",
        "\n",
        "class ComplexEncoder(json.JSONEncoder):\n",
        " def default(self, obj):\n",
        "\n",
        "  print(f\"ComplexEncoder.default: {obj=}\")\n",
        "  if isinstance(obj, complex):\n",
        "   return {\n",
        "    '_meta': '_complex',\n",
        "    'num': [obj.real, obj.imag],\n",
        "   }\n",
        "  return super().default(obj)\n",
        "\n",
        "data = {\n",
        " 'an_int': 42,\n",
        " 'a_float': 3.14159265,\n",
        " 'a_complex': 3 + 4j,\n",
        "}\n",
        "\n",
        "json_data = json.dumps(data, cls=ComplexEncoder)\n",
        "print(json_data)\n",
        "\n",
        "def object_hook(obj):\n",
        " print(f\"object_hook: {obj=}\")\n",
        " try:\n",
        "  if obj['_meta'] == '_complex':\n",
        "   return complex(*obj['num'])\n",
        " except KeyError:\n",
        "  return obj\n",
        "\n",
        "data_out = json.loads(json_data, object_hook=object_hook)\n",
        "print(data_out)"
      ],
      "metadata": {
        "colab": {
          "base_uri": "https://localhost:8080/"
        },
        "id": "OK34Tvl-hUZc",
        "outputId": "6772e79b-0732-47f2-d6f6-2a614fe0eee0"
      },
      "execution_count": 9,
      "outputs": [
        {
          "output_type": "stream",
          "name": "stdout",
          "text": [
            "ComplexEncoder.default: obj=(3+4j)\n",
            "{\"an_int\": 42, \"a_float\": 3.14159265, \"a_complex\": {\"_meta\": \"_complex\", \"num\": [3.0, 4.0]}}\n",
            "object_hook: obj={'_meta': '_complex', 'num': [3.0, 4.0]}\n",
            "object_hook: obj={'an_int': 42, 'a_float': 3.14159265, 'a_complex': (3+4j)}\n",
            "{'an_int': 42, 'a_float': 3.14159265, 'a_complex': (3+4j)}\n"
          ]
        }
      ]
    },
    {
      "cell_type": "code",
      "source": [
        "# files/walking.py\n",
        "import os\n",
        "for root, dirs, files in os.walk('.'):\n",
        " abs_root = os.path.abspath(root)\n",
        " print(abs_root)\n",
        " if dirs:\n",
        "  print('Directories:')\n",
        "  for dir_ in dirs:\n",
        "   print(dir_)\n",
        "  print()\n",
        "if files:\n",
        " print('Files:')\n",
        " for filename in files:\n",
        "  print(filename)\n",
        " print()"
      ],
      "metadata": {
        "colab": {
          "base_uri": "https://localhost:8080/"
        },
        "id": "2auAjqZAhbaV",
        "outputId": "aa0690c9-5687-4e3d-fe61-a192f966fb24"
      },
      "execution_count": 10,
      "outputs": [
        {
          "output_type": "stream",
          "name": "stdout",
          "text": [
            "/content\n",
            "Directories:\n",
            ".config\n",
            "sample_data\n",
            "\n",
            "/content/.config\n",
            "Directories:\n",
            "logs\n",
            "configurations\n",
            "\n",
            "/content/.config/logs\n",
            "Directories:\n",
            "2023.09.28\n",
            "\n",
            "/content/.config/logs/2023.09.28\n",
            "/content/.config/configurations\n",
            "/content/sample_data\n",
            "Files:\n",
            "README.md\n",
            "anscombe.json\n",
            "mnist_test.csv\n",
            "california_housing_train.csv\n",
            "mnist_train_small.csv\n",
            "california_housing_test.csv\n",
            "\n"
          ]
        }
      ]
    }
  ]
}