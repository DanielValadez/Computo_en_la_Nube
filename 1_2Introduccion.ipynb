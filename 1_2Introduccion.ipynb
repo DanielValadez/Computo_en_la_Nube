{
  "nbformat": 4,
  "nbformat_minor": 0,
  "metadata": {
    "colab": {
      "provenance": [],
      "authorship_tag": "ABX9TyP304A/kDbYjAs5i8Oc0gQ5",
      "include_colab_link": true
    },
    "kernelspec": {
      "name": "python3",
      "display_name": "Python 3"
    },
    "language_info": {
      "name": "python"
    }
  },
  "cells": [
    {
      "cell_type": "markdown",
      "metadata": {
        "id": "view-in-github",
        "colab_type": "text"
      },
      "source": [
        "<a href=\"https://colab.research.google.com/github/DanielValadez/Computo_en_la_Nube/blob/main/1_2Introduccion.ipynb\" target=\"_parent\"><img src=\"https://colab.research.google.com/assets/colab-badge.svg\" alt=\"Open In Colab\"/></a>"
      ]
    },
    {
      "cell_type": "code",
      "execution_count": 1,
      "metadata": {
        "colab": {
          "base_uri": "https://localhost:8080/"
        },
        "id": "0TARJQoOeaed",
        "outputId": "4bdc23dc-d9b6-42ea-af3d-c2fb9e57b451"
      },
      "outputs": [
        {
          "output_type": "stream",
          "name": "stdout",
          "text": [
            "5 printing from the global scope\n",
            "13 printing from the local scope\n"
          ]
        }
      ],
      "source": [
        "def enclosing_func():\n",
        "  m = 13\n",
        "  def local():\n",
        "    print(m, 'printing from the local scope')\n",
        "  local()\n",
        "m = 5\n",
        "\n",
        "print(m, 'printing from the global scope')\n",
        "enclosing_func()"
      ]
    },
    {
      "cell_type": "code",
      "source": [
        "class Bike:\n",
        "  def __init__(self, colour, frame_material):\n",
        "    self.colour = colour\n",
        "    self.frame_material = frame_material\n",
        "\n",
        "  def brake(self):\n",
        "    print(\"Braking!\")\n",
        "\n",
        "red_bike = Bike('red', 'carbon fiber')\n",
        "blue_bike = Bike('Blue', 'steel')\n",
        "\n",
        "print(red_bike.colour)\n",
        "print(red_bike.frame_material)\n",
        "print(blue_bike.colour)\n",
        "print(blue_bike.frame_material)\n",
        "\n",
        "red_bike.brake()"
      ],
      "metadata": {
        "colab": {
          "base_uri": "https://localhost:8080/"
        },
        "id": "lOgbUnjSemFw",
        "outputId": "38580fe2-3659-44fa-f507-484f7ac95063"
      },
      "execution_count": 2,
      "outputs": [
        {
          "output_type": "stream",
          "name": "stdout",
          "text": [
            "red\n",
            "carbon fiber\n",
            "Blue\n",
            "steel\n",
            "Braking!\n"
          ]
        }
      ]
    },
    {
      "cell_type": "code",
      "source": [
        "s = 'Hello There'\n",
        "s.removeprefix('Hell')\n",
        "\n",
        "a = \"The trouble is you think you have time.\"\n",
        "a[0]\n",
        "a[:]\n",
        "\n",
        "greet_old = 'Hello %s!'\n",
        "greet_old % 'Fabrizio'\n",
        "'Hello Fabrizio!'\n",
        "\n",
        "keyword = 'Hello, my name is {name} {last_name}'\n",
        "keyword.format(name='Fabrizio', last_name='Romano')"
      ],
      "metadata": {
        "colab": {
          "base_uri": "https://localhost:8080/",
          "height": 35
        },
        "id": "yrzOpjGkeqz_",
        "outputId": "31dd1ffe-97bd-4209-82f7-159ae8976876"
      },
      "execution_count": 3,
      "outputs": [
        {
          "output_type": "execute_result",
          "data": {
            "text/plain": [
              "'Hello, my name is Fabrizio Romano'"
            ],
            "application/vnd.google.colaboratory.intrinsic+json": {
              "type": "string"
            }
          },
          "metadata": {},
          "execution_count": 3
        }
      ]
    },
    {
      "cell_type": "code",
      "source": [
        "a = [1, 2, 1, 3]\n",
        "a.append(13)\n",
        "print(a)\n",
        "a.count(1)\n",
        "a.extend([5, 7])\n",
        "print(a)\n",
        "a.index(13)\n",
        "a.insert(0, 17)\n",
        "print(a)\n",
        "a.pop()\n",
        "a.pop(3)\n",
        "a.remove(17)\n",
        "print(a)\n",
        "a.reverse()\n",
        "print(a)\n",
        "a.sort()\n",
        "print(a)\n",
        "a.clear()\n",
        "print(a)\n"
      ],
      "metadata": {
        "colab": {
          "base_uri": "https://localhost:8080/"
        },
        "id": "kcrBI1Doev1N",
        "outputId": "4a450261-64b8-4cb8-c489-899be815cc53"
      },
      "execution_count": 4,
      "outputs": [
        {
          "output_type": "stream",
          "name": "stdout",
          "text": [
            "[1, 2, 1, 3, 13]\n",
            "[1, 2, 1, 3, 13, 5, 7]\n",
            "[17, 1, 2, 1, 3, 13, 5, 7]\n",
            "[1, 2, 3, 13, 5]\n",
            "[5, 13, 3, 2, 1]\n",
            "[1, 2, 3, 5, 13]\n",
            "[]\n"
          ]
        }
      ]
    },
    {
      "cell_type": "code",
      "source": [
        "income = 15000\n",
        "if income < 10000:\n",
        "   tax_coefficient = 0.0 #1\n",
        "elif income < 30000:\n",
        "   tax_coefficient = 0.2 #2\n",
        "elif income < 100000:\n",
        "   tax_coefficient = 0.35 #3\n",
        "else:\n",
        "   tax_coefficient = 0.45 #4\n",
        "print(f'You will pay: ${income * tax_coefficient} in taxes')"
      ],
      "metadata": {
        "colab": {
          "base_uri": "https://localhost:8080/"
        },
        "id": "vJKQ05Bie0jw",
        "outputId": "da75d174-1884-4b94-b74b-146a2fad8b60"
      },
      "execution_count": 5,
      "outputs": [
        {
          "output_type": "stream",
          "name": "stdout",
          "text": [
            "You will pay: $3000.0 in taxes\n"
          ]
        }
      ]
    },
    {
      "cell_type": "code",
      "source": [
        "alert_system = 'console'\n",
        "error_severity = 'critical'\n",
        "error_message = 'OMG! Something terrible happened!'\n",
        "\n",
        "if alert_system == 'console':\n",
        " print(error_message) #1\n",
        "elif alert_system == 'email':\n",
        " if error_severity == 'critical':\n",
        "  send_email('admin@example.com', error_message) #2\n",
        " elif error_severity == 'medium':\n",
        "  send_email('support.1@example.com', error_message) #3\n",
        " else:\n",
        "  send_email('support.2@example.com', error_message) #4"
      ],
      "metadata": {
        "colab": {
          "base_uri": "https://localhost:8080/"
        },
        "id": "S6Hdn-doe5R8",
        "outputId": "257f6b85-ef38-4f75-8547-728329bcb664"
      },
      "execution_count": 6,
      "outputs": [
        {
          "output_type": "stream",
          "name": "stdout",
          "text": [
            "OMG! Something terrible happened!\n"
          ]
        }
      ]
    },
    {
      "cell_type": "code",
      "source": [
        "people = ['Nick', 'Rick', 'Roger', 'Syd']\n",
        "ages = [23, 24, 23, 21]\n",
        "for position in range(len(people)):\n",
        " person = people[position]\n",
        " age = ages[position]\n",
        " print(person, age, '\\n')\n",
        "\n",
        "people = ['Nick', 'Rick', 'Roger', 'Syd']\n",
        "ages = [23, 24, 23, 21]\n",
        "instruments = ['Drums', 'Keyboards', 'Bass', 'Guitar']\n",
        "for person, age, instrument in zip(people, ages, instruments):\n",
        " print(person, age, instrument)"
      ],
      "metadata": {
        "colab": {
          "base_uri": "https://localhost:8080/"
        },
        "id": "0x7BJvdme5Wq",
        "outputId": "172bcfc6-3fa2-470d-9bd1-e24098a745a3"
      },
      "execution_count": 7,
      "outputs": [
        {
          "output_type": "stream",
          "name": "stdout",
          "text": [
            "Nick 23 \n",
            "\n",
            "Rick 24 \n",
            "\n",
            "Roger 23 \n",
            "\n",
            "Syd 21 \n",
            "\n",
            "Nick 23 Drums\n",
            "Rick 24 Keyboards\n",
            "Roger 23 Bass\n",
            "Syd 21 Guitar\n"
          ]
        }
      ]
    },
    {
      "cell_type": "code",
      "source": [
        "people = ['Nick', 'Rick', 'Roger', 'Syd']\n",
        "ages = [23, 24, 23, 21]\n",
        "for position in range(len(people)):\n",
        " person = people[position]\n",
        " age = ages[position]\n",
        " print(person, age, '\\n')\n",
        "\n",
        "people = ['Nick', 'Rick', 'Roger', 'Syd']\n",
        "ages = [23, 24, 23, 21]\n",
        "instruments = ['Drums', 'Keyboards', 'Bass', 'Guitar']\n",
        "for person, age, instrument in zip(people, ages, instruments):\n",
        " print(person, age, instrument)"
      ],
      "metadata": {
        "colab": {
          "base_uri": "https://localhost:8080/"
        },
        "id": "vbSg6X4SfBSv",
        "outputId": "e6f59aeb-e866-461d-eaa9-f819336bc690"
      },
      "execution_count": 8,
      "outputs": [
        {
          "output_type": "stream",
          "name": "stdout",
          "text": [
            "Nick 23 \n",
            "\n",
            "Rick 24 \n",
            "\n",
            "Roger 23 \n",
            "\n",
            "Syd 21 \n",
            "\n",
            "Nick 23 Drums\n",
            "Rick 24 Keyboards\n",
            "Roger 23 Bass\n",
            "Syd 21 Guitar\n"
          ]
        }
      ]
    },
    {
      "cell_type": "code",
      "source": [
        "people = ['Nick', 'Rick', 'Roger', 'Syd']\n",
        "ages = [23, 24, 23, 21]\n",
        "for position in range(len(people)):\n",
        " person = people[position]\n",
        " age = ages[position]\n",
        " print(person, age)\n",
        "\n",
        "people = ['Nick', 'Rick', 'Roger', 'Syd']\n",
        "ages = [23, 24, 23, 21]\n",
        "instruments = ['Drums', 'Keyboards', 'Bass', 'Guitar']\n",
        "for person, age, instrument in zip(people, ages, instruments):\n",
        " print('\\n')\n",
        " print(person, age, instrument)"
      ],
      "metadata": {
        "colab": {
          "base_uri": "https://localhost:8080/"
        },
        "id": "VlUU84fJfZql",
        "outputId": "6afa4b6c-0171-449a-fc61-59d3146dbe7d"
      },
      "execution_count": 9,
      "outputs": [
        {
          "output_type": "stream",
          "name": "stdout",
          "text": [
            "Nick 23\n",
            "Rick 24\n",
            "Roger 23\n",
            "Syd 21\n",
            "\n",
            "\n",
            "Nick 23 Drums\n",
            "\n",
            "\n",
            "Rick 24 Keyboards\n",
            "\n",
            "\n",
            "Roger 23 Bass\n",
            "\n",
            "\n",
            "Syd 21 Guitar\n"
          ]
        }
      ]
    },
    {
      "cell_type": "code",
      "source": [
        "def minimum(*n):\n",
        " # print(type(n)) # n is a tuple\n",
        " if n: # explained after the code\n",
        "  mn = n[0]\n",
        "  for value in n[1:]:\n",
        "   if value < mn:\n",
        "    mn = value\n",
        "   print(mn)\n",
        "minimum(1, 3, -7, 9)\n",
        "minimum()"
      ],
      "metadata": {
        "colab": {
          "base_uri": "https://localhost:8080/"
        },
        "id": "Tz_hrHuVfd4q",
        "outputId": "2f8aa013-b503-4c0e-ac0b-18aa5e2f04c2"
      },
      "execution_count": 10,
      "outputs": [
        {
          "output_type": "stream",
          "name": "stdout",
          "text": [
            "1\n",
            "-7\n",
            "-7\n"
          ]
        }
      ]
    }
  ]
}