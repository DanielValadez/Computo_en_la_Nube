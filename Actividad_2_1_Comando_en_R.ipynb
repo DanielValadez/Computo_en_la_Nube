{
  "nbformat": 4,
  "nbformat_minor": 0,
  "metadata": {
    "colab": {
      "provenance": [],
      "authorship_tag": "ABX9TyOBxWGFEB0wL5BE2MjKKaSM",
      "include_colab_link": true
    },
    "kernelspec": {
      "name": "ir",
      "display_name": "R"
    },
    "language_info": {
      "name": "R"
    }
  },
  "cells": [
    {
      "cell_type": "markdown",
      "metadata": {
        "id": "view-in-github",
        "colab_type": "text"
      },
      "source": [
        "<a href=\"https://colab.research.google.com/github/DanielValadez/Computo_en_la_Nube/blob/main/Actividad_2_1_Comando_en_R.ipynb\" target=\"_parent\"><img src=\"https://colab.research.google.com/assets/colab-badge.svg\" alt=\"Open In Colab\"/></a>"
      ]
    },
    {
      "cell_type": "code",
      "source": [
        "a <- c(3, 1, 2)\n",
        "a\n",
        "## [1] 3 1 2\n",
        "b <- c(4, 5, 0)\n",
        "b\n",
        "## [1] 4 5 0\n",
        "c <- c(a, b)\n",
        "c\n",
        "## [1] 3 1 2 4 5 0\n",
        "d <- c(b, a)\n",
        "d\n",
        "## [1] 4 5 0 3 1 2"
      ],
      "metadata": {
        "colab": {
          "base_uri": "https://localhost:8080/",
          "height": 86
        },
        "id": "TZRT_GRS39HC",
        "outputId": "4b4ab1d1-294f-452b-e5ad-89dd29c9b25e"
      },
      "execution_count": 6,
      "outputs": [
        {
          "output_type": "display_data",
          "data": {
            "text/html": [
              "<style>\n",
              ".list-inline {list-style: none; margin:0; padding: 0}\n",
              ".list-inline>li {display: inline-block}\n",
              ".list-inline>li:not(:last-child)::after {content: \"\\00b7\"; padding: 0 .5ex}\n",
              "</style>\n",
              "<ol class=list-inline><li>3</li><li>1</li><li>2</li></ol>\n"
            ],
            "text/markdown": "1. 3\n2. 1\n3. 2\n\n\n",
            "text/latex": "\\begin{enumerate*}\n\\item 3\n\\item 1\n\\item 2\n\\end{enumerate*}\n",
            "text/plain": [
              "[1] 3 1 2"
            ]
          },
          "metadata": {}
        },
        {
          "output_type": "display_data",
          "data": {
            "text/html": [
              "<style>\n",
              ".list-inline {list-style: none; margin:0; padding: 0}\n",
              ".list-inline>li {display: inline-block}\n",
              ".list-inline>li:not(:last-child)::after {content: \"\\00b7\"; padding: 0 .5ex}\n",
              "</style>\n",
              "<ol class=list-inline><li>4</li><li>5</li><li>0</li></ol>\n"
            ],
            "text/markdown": "1. 4\n2. 5\n3. 0\n\n\n",
            "text/latex": "\\begin{enumerate*}\n\\item 4\n\\item 5\n\\item 0\n\\end{enumerate*}\n",
            "text/plain": [
              "[1] 4 5 0"
            ]
          },
          "metadata": {}
        },
        {
          "output_type": "display_data",
          "data": {
            "text/html": [
              "<style>\n",
              ".list-inline {list-style: none; margin:0; padding: 0}\n",
              ".list-inline>li {display: inline-block}\n",
              ".list-inline>li:not(:last-child)::after {content: \"\\00b7\"; padding: 0 .5ex}\n",
              "</style>\n",
              "<ol class=list-inline><li>3</li><li>1</li><li>2</li><li>4</li><li>5</li><li>0</li></ol>\n"
            ],
            "text/markdown": "1. 3\n2. 1\n3. 2\n4. 4\n5. 5\n6. 0\n\n\n",
            "text/latex": "\\begin{enumerate*}\n\\item 3\n\\item 1\n\\item 2\n\\item 4\n\\item 5\n\\item 0\n\\end{enumerate*}\n",
            "text/plain": [
              "[1] 3 1 2 4 5 0"
            ]
          },
          "metadata": {}
        },
        {
          "output_type": "display_data",
          "data": {
            "text/html": [
              "<style>\n",
              ".list-inline {list-style: none; margin:0; padding: 0}\n",
              ".list-inline>li {display: inline-block}\n",
              ".list-inline>li:not(:last-child)::after {content: \"\\00b7\"; padding: 0 .5ex}\n",
              "</style>\n",
              "<ol class=list-inline><li>4</li><li>5</li><li>0</li><li>3</li><li>1</li><li>2</li></ol>\n"
            ],
            "text/markdown": "1. 4\n2. 5\n3. 0\n4. 3\n5. 1\n6. 2\n\n\n",
            "text/latex": "\\begin{enumerate*}\n\\item 4\n\\item 5\n\\item 0\n\\item 3\n\\item 1\n\\item 2\n\\end{enumerate*}\n",
            "text/plain": [
              "[1] 4 5 0 3 1 2"
            ]
          },
          "metadata": {}
        }
      ]
    },
    {
      "cell_type": "code",
      "source": [
        "a <- TRUE\n",
        "b <- FALSE\n",
        "mode(a)\n",
        "## [1] \"logical\"\n",
        "a\n",
        "## [1] TRUE\n",
        "!a # negation\n",
        "## [1] FALSE\n",
        "a && b # logical AND\n",
        "## [1] FALSE\n",
        "a || b # logical OR\n",
        "## [1] TRUE\n",
        "xor(a, b) # exclusive OR\n",
        "## [1] TRUE"
      ],
      "metadata": {
        "colab": {
          "base_uri": "https://localhost:8080/",
          "height": 121
        },
        "id": "QPoieaARY3fl",
        "outputId": "3adfc6e3-187f-4283-bf2e-94c9d849c69c"
      },
      "execution_count": 1,
      "outputs": [
        {
          "output_type": "display_data",
          "data": {
            "text/html": [
              "'logical'"
            ],
            "text/markdown": "'logical'",
            "text/latex": "'logical'",
            "text/plain": [
              "[1] \"logical\""
            ]
          },
          "metadata": {}
        },
        {
          "output_type": "display_data",
          "data": {
            "text/html": [
              "TRUE"
            ],
            "text/markdown": "TRUE",
            "text/latex": "TRUE",
            "text/plain": [
              "[1] TRUE"
            ]
          },
          "metadata": {}
        },
        {
          "output_type": "display_data",
          "data": {
            "text/html": [
              "FALSE"
            ],
            "text/markdown": "FALSE",
            "text/latex": "FALSE",
            "text/plain": [
              "[1] FALSE"
            ]
          },
          "metadata": {}
        },
        {
          "output_type": "display_data",
          "data": {
            "text/html": [
              "FALSE"
            ],
            "text/markdown": "FALSE",
            "text/latex": "FALSE",
            "text/plain": [
              "[1] FALSE"
            ]
          },
          "metadata": {}
        },
        {
          "output_type": "display_data",
          "data": {
            "text/html": [
              "TRUE"
            ],
            "text/markdown": "TRUE",
            "text/latex": "TRUE",
            "text/plain": [
              "[1] TRUE"
            ]
          },
          "metadata": {}
        },
        {
          "output_type": "display_data",
          "data": {
            "text/html": [
              "TRUE"
            ],
            "text/markdown": "TRUE",
            "text/latex": "TRUE",
            "text/plain": [
              "[1] TRUE"
            ]
          },
          "metadata": {}
        }
      ]
    },
    {
      "cell_type": "code",
      "source": [
        "my_var <- 1:5\n",
        "mode(my_var) # no distinction of integer or double\n",
        "## [1] \"numeric\"\n",
        "typeof(my_var)\n",
        "## [1] \"integer\"\n",
        "is.numeric(my_var) # no distinction of integer or double\n",
        "## [1] TRUE\n",
        "is.double(my_var)\n",
        "## [1] FALSE\n",
        "is.integer(my_var)\n",
        "## [1] TRUE\n",
        "is.logical(my_var)\n",
        "## [1] FALSE\n",
        "is.character(my_var)\n",
        "## [1] FALSE\n",
        "my_var <- \"abc\"\n",
        "mode(my_var)\n",
        "## [1] \"character\""
      ],
      "metadata": {
        "colab": {
          "base_uri": "https://localhost:8080/",
          "height": 156
        },
        "id": "5WgTQmiTZ4GZ",
        "outputId": "ce1ec6a0-2a87-4a99-b2b7-42c2d2705113"
      },
      "execution_count": 2,
      "outputs": [
        {
          "output_type": "display_data",
          "data": {
            "text/html": [
              "'numeric'"
            ],
            "text/markdown": "'numeric'",
            "text/latex": "'numeric'",
            "text/plain": [
              "[1] \"numeric\""
            ]
          },
          "metadata": {}
        },
        {
          "output_type": "display_data",
          "data": {
            "text/html": [
              "'integer'"
            ],
            "text/markdown": "'integer'",
            "text/latex": "'integer'",
            "text/plain": [
              "[1] \"integer\""
            ]
          },
          "metadata": {}
        },
        {
          "output_type": "display_data",
          "data": {
            "text/html": [
              "TRUE"
            ],
            "text/markdown": "TRUE",
            "text/latex": "TRUE",
            "text/plain": [
              "[1] TRUE"
            ]
          },
          "metadata": {}
        },
        {
          "output_type": "display_data",
          "data": {
            "text/html": [
              "FALSE"
            ],
            "text/markdown": "FALSE",
            "text/latex": "FALSE",
            "text/plain": [
              "[1] FALSE"
            ]
          },
          "metadata": {}
        },
        {
          "output_type": "display_data",
          "data": {
            "text/html": [
              "TRUE"
            ],
            "text/markdown": "TRUE",
            "text/latex": "TRUE",
            "text/plain": [
              "[1] TRUE"
            ]
          },
          "metadata": {}
        },
        {
          "output_type": "display_data",
          "data": {
            "text/html": [
              "FALSE"
            ],
            "text/markdown": "FALSE",
            "text/latex": "FALSE",
            "text/plain": [
              "[1] FALSE"
            ]
          },
          "metadata": {}
        },
        {
          "output_type": "display_data",
          "data": {
            "text/html": [
              "FALSE"
            ],
            "text/markdown": "FALSE",
            "text/latex": "FALSE",
            "text/plain": [
              "[1] FALSE"
            ]
          },
          "metadata": {}
        },
        {
          "output_type": "display_data",
          "data": {
            "text/html": [
              "'character'"
            ],
            "text/markdown": "'character'",
            "text/latex": "'character'",
            "text/plain": [
              "[1] \"character\""
            ]
          },
          "metadata": {}
        }
      ]
    },
    {
      "cell_type": "code",
      "source": [
        "x = c(123.4567890, 1.0)\n",
        "sprintf(\"The numbers are: %4.2f and %.0f\", x[1], x[2])\n",
        "## [1] \"The numbers are: 123.46 and 1\"\n",
        "sprintf(\"The numbers are: %.4g and %.2g\", x[1], x[2])\n",
        "## [1] \"The numbers are: 123.5 and 1\"\n",
        "sprintf(\"The numbers are: %4.2e and %.0e\", x[1], x[2])"
      ],
      "metadata": {
        "colab": {
          "base_uri": "https://localhost:8080/",
          "height": 69
        },
        "id": "YzxSrUIhaA2T",
        "outputId": "e6d46c0f-e2e9-4c40-81ae-f277337277df"
      },
      "execution_count": 3,
      "outputs": [
        {
          "output_type": "display_data",
          "data": {
            "text/html": [
              "'The numbers are: 123.46 and 1'"
            ],
            "text/markdown": "'The numbers are: 123.46 and 1'",
            "text/latex": "'The numbers are: 123.46 and 1'",
            "text/plain": [
              "[1] \"The numbers are: 123.46 and 1\""
            ]
          },
          "metadata": {}
        },
        {
          "output_type": "display_data",
          "data": {
            "text/html": [
              "'The numbers are: 123.5 and 1'"
            ],
            "text/markdown": "'The numbers are: 123.5 and 1'",
            "text/latex": "'The numbers are: 123.5 and 1'",
            "text/plain": [
              "[1] \"The numbers are: 123.5 and 1\""
            ]
          },
          "metadata": {}
        },
        {
          "output_type": "display_data",
          "data": {
            "text/html": [
              "'The numbers are: 1.23e+02 and 1e+00'"
            ],
            "text/markdown": "'The numbers are: 1.23e+02 and 1e+00'",
            "text/latex": "'The numbers are: 1.23e+02 and 1e+00'",
            "text/plain": [
              "[1] \"The numbers are: 1.23e+02 and 1e+00\""
            ]
          },
          "metadata": {}
        }
      ]
    },
    {
      "cell_type": "code",
      "source": [
        "matrix(1:15, ncol = 3)\n",
        "## [,1] [,2] [,3]\n",
        "## [1,] 1 6 11\n",
        "## [2,] 2 7 12#\n",
        "# [3,] 3 8 13\n",
        "## [4,] 4 9 14\n",
        "## [5,] 5 10 15\n",
        "matrix(1:15, nrow = 3)\n",
        "## [,1] [,2] [,3] [,4] [,5]\n",
        "## [1,] 1 4 7 10 13\n",
        "## [2,] 2 5 8 11 14\n",
        "## [3,] 3 6 9 12 15"
      ],
      "metadata": {
        "colab": {
          "base_uri": "https://localhost:8080/",
          "height": 337
        },
        "id": "PQxTuvJcbsc_",
        "outputId": "27aec2f2-6459-4968-e36f-b10d69768b5a"
      },
      "execution_count": 4,
      "outputs": [
        {
          "output_type": "display_data",
          "data": {
            "text/html": [
              "<table class=\"dataframe\">\n",
              "<caption>A matrix: 5 × 3 of type int</caption>\n",
              "<tbody>\n",
              "\t<tr><td>1</td><td> 6</td><td>11</td></tr>\n",
              "\t<tr><td>2</td><td> 7</td><td>12</td></tr>\n",
              "\t<tr><td>3</td><td> 8</td><td>13</td></tr>\n",
              "\t<tr><td>4</td><td> 9</td><td>14</td></tr>\n",
              "\t<tr><td>5</td><td>10</td><td>15</td></tr>\n",
              "</tbody>\n",
              "</table>\n"
            ],
            "text/markdown": "\nA matrix: 5 × 3 of type int\n\n| 1 |  6 | 11 |\n| 2 |  7 | 12 |\n| 3 |  8 | 13 |\n| 4 |  9 | 14 |\n| 5 | 10 | 15 |\n\n",
            "text/latex": "A matrix: 5 × 3 of type int\n\\begin{tabular}{lll}\n\t 1 &  6 & 11\\\\\n\t 2 &  7 & 12\\\\\n\t 3 &  8 & 13\\\\\n\t 4 &  9 & 14\\\\\n\t 5 & 10 & 15\\\\\n\\end{tabular}\n",
            "text/plain": [
              "     [,1] [,2] [,3]\n",
              "[1,] 1     6   11  \n",
              "[2,] 2     7   12  \n",
              "[3,] 3     8   13  \n",
              "[4,] 4     9   14  \n",
              "[5,] 5    10   15  "
            ]
          },
          "metadata": {}
        },
        {
          "output_type": "display_data",
          "data": {
            "text/html": [
              "<table class=\"dataframe\">\n",
              "<caption>A matrix: 3 × 5 of type int</caption>\n",
              "<tbody>\n",
              "\t<tr><td>1</td><td>4</td><td>7</td><td>10</td><td>13</td></tr>\n",
              "\t<tr><td>2</td><td>5</td><td>8</td><td>11</td><td>14</td></tr>\n",
              "\t<tr><td>3</td><td>6</td><td>9</td><td>12</td><td>15</td></tr>\n",
              "</tbody>\n",
              "</table>\n"
            ],
            "text/markdown": "\nA matrix: 3 × 5 of type int\n\n| 1 | 4 | 7 | 10 | 13 |\n| 2 | 5 | 8 | 11 | 14 |\n| 3 | 6 | 9 | 12 | 15 |\n\n",
            "text/latex": "A matrix: 3 × 5 of type int\n\\begin{tabular}{lllll}\n\t 1 & 4 & 7 & 10 & 13\\\\\n\t 2 & 5 & 8 & 11 & 14\\\\\n\t 3 & 6 & 9 & 12 & 15\\\\\n\\end{tabular}\n",
            "text/plain": [
              "     [,1] [,2] [,3] [,4] [,5]\n",
              "[1,] 1    4    7    10   13  \n",
              "[2,] 2    5    8    11   14  \n",
              "[3,] 3    6    9    12   15  "
            ]
          },
          "metadata": {}
        }
      ]
    },
    {
      "cell_type": "code",
      "source": [
        "a.df <- data.frame(x = 1:6, y = \"a\", z = c(TRUE, FALSE))\n",
        "a.df\n",
        "## x y z\n",
        "## 1 1 a TRUE\n",
        "## 2 2 a FALSE\n",
        "## 3 3 a TRUE\n",
        "## 4 4 a FALSE\n",
        "## 5 5 a TRUE\n",
        "## 6 6 a FALSE\n",
        "str(a.df)\n",
        "## 'data.frame': 6 obs. of 3 variables:\n",
        "## $ x: int 1 2 3 4 5 6\n",
        "## $ y: chr \"a\" \"a\" \"a\" \"a\" ...\n",
        "## $ z: logi TRUE FALSE TRUE FALSE TRUE FALSE\n",
        "class(a.df)\n",
        "## [1] \"data.frame\"\n",
        "mode(a.df)\n",
        "## [1] \"list\"\n",
        "is.data.frame(a.df)\n",
        "## [1] TRUE\n",
        "is.list(a.df)\n",
        "## [1] TRUE"
      ],
      "metadata": {
        "colab": {
          "base_uri": "https://localhost:8080/",
          "height": 425
        },
        "id": "XSWO6Btmd6XV",
        "outputId": "bd9f9e7c-9777-4572-e4b3-98e2dc2663fd"
      },
      "execution_count": 6,
      "outputs": [
        {
          "output_type": "display_data",
          "data": {
            "text/html": [
              "<table class=\"dataframe\">\n",
              "<caption>A data.frame: 6 × 3</caption>\n",
              "<thead>\n",
              "\t<tr><th scope=col>x</th><th scope=col>y</th><th scope=col>z</th></tr>\n",
              "\t<tr><th scope=col>&lt;int&gt;</th><th scope=col>&lt;chr&gt;</th><th scope=col>&lt;lgl&gt;</th></tr>\n",
              "</thead>\n",
              "<tbody>\n",
              "\t<tr><td>1</td><td>a</td><td> TRUE</td></tr>\n",
              "\t<tr><td>2</td><td>a</td><td>FALSE</td></tr>\n",
              "\t<tr><td>3</td><td>a</td><td> TRUE</td></tr>\n",
              "\t<tr><td>4</td><td>a</td><td>FALSE</td></tr>\n",
              "\t<tr><td>5</td><td>a</td><td> TRUE</td></tr>\n",
              "\t<tr><td>6</td><td>a</td><td>FALSE</td></tr>\n",
              "</tbody>\n",
              "</table>\n"
            ],
            "text/markdown": "\nA data.frame: 6 × 3\n\n| x &lt;int&gt; | y &lt;chr&gt; | z &lt;lgl&gt; |\n|---|---|---|\n| 1 | a |  TRUE |\n| 2 | a | FALSE |\n| 3 | a |  TRUE |\n| 4 | a | FALSE |\n| 5 | a |  TRUE |\n| 6 | a | FALSE |\n\n",
            "text/latex": "A data.frame: 6 × 3\n\\begin{tabular}{lll}\n x & y & z\\\\\n <int> & <chr> & <lgl>\\\\\n\\hline\n\t 1 & a &  TRUE\\\\\n\t 2 & a & FALSE\\\\\n\t 3 & a &  TRUE\\\\\n\t 4 & a & FALSE\\\\\n\t 5 & a &  TRUE\\\\\n\t 6 & a & FALSE\\\\\n\\end{tabular}\n",
            "text/plain": [
              "  x y z    \n",
              "1 1 a  TRUE\n",
              "2 2 a FALSE\n",
              "3 3 a  TRUE\n",
              "4 4 a FALSE\n",
              "5 5 a  TRUE\n",
              "6 6 a FALSE"
            ]
          },
          "metadata": {}
        },
        {
          "output_type": "stream",
          "name": "stdout",
          "text": [
            "'data.frame':\t6 obs. of  3 variables:\n",
            " $ x: int  1 2 3 4 5 6\n",
            " $ y: chr  \"a\" \"a\" \"a\" \"a\" ...\n",
            " $ z: logi  TRUE FALSE TRUE FALSE TRUE FALSE\n"
          ]
        },
        {
          "output_type": "display_data",
          "data": {
            "text/html": [
              "'data.frame'"
            ],
            "text/markdown": "'data.frame'",
            "text/latex": "'data.frame'",
            "text/plain": [
              "[1] \"data.frame\""
            ]
          },
          "metadata": {}
        },
        {
          "output_type": "display_data",
          "data": {
            "text/html": [
              "'list'"
            ],
            "text/markdown": "'list'",
            "text/latex": "'list'",
            "text/plain": [
              "[1] \"list\""
            ]
          },
          "metadata": {}
        },
        {
          "output_type": "display_data",
          "data": {
            "text/html": [
              "TRUE"
            ],
            "text/markdown": "TRUE",
            "text/latex": "TRUE",
            "text/plain": [
              "[1] TRUE"
            ]
          },
          "metadata": {}
        },
        {
          "output_type": "display_data",
          "data": {
            "text/html": [
              "TRUE"
            ],
            "text/markdown": "TRUE",
            "text/latex": "TRUE",
            "text/plain": [
              "[1] TRUE"
            ]
          },
          "metadata": {}
        }
      ]
    },
    {
      "cell_type": "code",
      "source": [
        "plot(x = cars$speed, y = cars$dist)"
      ],
      "metadata": {
        "colab": {
          "base_uri": "https://localhost:8080/",
          "height": 437
        },
        "id": "twxD_kSNfxTb",
        "outputId": "ca6d60a1-9ef5-4391-d275-622dd579fde8"
      },
      "execution_count": 7,
      "outputs": [
        {
          "output_type": "display_data",
          "data": {
            "text/plain": [
              "plot without title"
            ],
            "image/png": "[encoded data removed]"
          },
          "metadata": {
            "image/png": {
              "width": 420,
              "height": 420
            }
          }
        }
      ]
    }
  ]
}